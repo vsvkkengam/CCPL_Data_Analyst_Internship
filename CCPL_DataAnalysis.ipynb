{
 "cells": [
  {
   "cell_type": "code",
   "execution_count": 1,
   "id": "f8c16677",
   "metadata": {},
   "outputs": [],
   "source": [
    "# Importing Libraries"
   ]
  },
  {
   "cell_type": "code",
   "execution_count": 2,
   "id": "e52db09a",
   "metadata": {},
   "outputs": [],
   "source": [
    "import pandas as pd\n",
    "import numpy as np\n",
    "import matplotlib.pyplot as plt\n",
    "import seaborn as sns\n",
    "import warnings\n",
    "warnings.filterwarnings('ignore')"
   ]
  },
  {
   "cell_type": "code",
   "execution_count": 3,
   "id": "5bd471aa",
   "metadata": {},
   "outputs": [],
   "source": [
    "# Loading dataset"
   ]
  },
  {
   "cell_type": "code",
   "execution_count": 4,
   "id": "e9adbbb7",
   "metadata": {},
   "outputs": [],
   "source": [
    "df = pd.read_csv(\"D:\\Desktop\\Data analyst\\Data Analyst internship\\Data analyst Data.csv\")"
   ]
  },
  {
   "cell_type": "code",
   "execution_count": 5,
   "id": "2c9fd2aa",
   "metadata": {},
   "outputs": [
    {
     "data": {
      "text/html": [
       "<div>\n",
       "<style scoped>\n",
       "    .dataframe tbody tr th:only-of-type {\n",
       "        vertical-align: middle;\n",
       "    }\n",
       "\n",
       "    .dataframe tbody tr th {\n",
       "        vertical-align: top;\n",
       "    }\n",
       "\n",
       "    .dataframe thead th {\n",
       "        text-align: right;\n",
       "    }\n",
       "</style>\n",
       "<table border=\"1\" class=\"dataframe\">\n",
       "  <thead>\n",
       "    <tr style=\"text-align: right;\">\n",
       "      <th></th>\n",
       "      <th>First Name</th>\n",
       "      <th>Email ID</th>\n",
       "      <th>Quantity</th>\n",
       "      <th>Events</th>\n",
       "      <th>Attendee Status</th>\n",
       "      <th>College Name</th>\n",
       "      <th>How did you come to know about this event?</th>\n",
       "      <th>Specify in \"Others\" (how did you come to know about this event)</th>\n",
       "      <th>Designation</th>\n",
       "      <th>Year of Graduation</th>\n",
       "      <th>City</th>\n",
       "      <th>CGPA</th>\n",
       "      <th>Experience with python (Months)</th>\n",
       "      <th>Family Income</th>\n",
       "      <th>Expected salary (Lac)</th>\n",
       "      <th>Leadership- skills</th>\n",
       "    </tr>\n",
       "  </thead>\n",
       "  <tbody>\n",
       "    <tr>\n",
       "      <th>0</th>\n",
       "      <td>ANIKET</td>\n",
       "      <td>aniket@xyz.com</td>\n",
       "      <td>1</td>\n",
       "      <td>Art of Resume Building</td>\n",
       "      <td>Attending</td>\n",
       "      <td>D Y PATIL INSTITUTE OF MCA AND MANAGEMENT AKUR...</td>\n",
       "      <td>Email</td>\n",
       "      <td>Others</td>\n",
       "      <td>Students</td>\n",
       "      <td>2024</td>\n",
       "      <td>Patna</td>\n",
       "      <td>6.7</td>\n",
       "      <td>7</td>\n",
       "      <td>7 Lakh+</td>\n",
       "      <td>6</td>\n",
       "      <td>yes</td>\n",
       "    </tr>\n",
       "    <tr>\n",
       "      <th>1</th>\n",
       "      <td>Dhanshree</td>\n",
       "      <td>dhanshree@xyz.com</td>\n",
       "      <td>1</td>\n",
       "      <td>Art of Resume Building</td>\n",
       "      <td>Attending</td>\n",
       "      <td>AP SHAH INSTITUTE OF TECHNOLOGY</td>\n",
       "      <td>Others</td>\n",
       "      <td>College</td>\n",
       "      <td>Students</td>\n",
       "      <td>2024</td>\n",
       "      <td>Amravati</td>\n",
       "      <td>8.2</td>\n",
       "      <td>3</td>\n",
       "      <td>0-2 Lakh</td>\n",
       "      <td>7</td>\n",
       "      <td>no</td>\n",
       "    </tr>\n",
       "    <tr>\n",
       "      <th>2</th>\n",
       "      <td>Dhiraj</td>\n",
       "      <td>dhiraj@xyz.com</td>\n",
       "      <td>1</td>\n",
       "      <td>Art of Resume Building</td>\n",
       "      <td>Attending</td>\n",
       "      <td>Don Bosco College of Engineering Fatorda Goa</td>\n",
       "      <td>Email</td>\n",
       "      <td>Others</td>\n",
       "      <td>Students</td>\n",
       "      <td>2023</td>\n",
       "      <td>Kunrool</td>\n",
       "      <td>6.5</td>\n",
       "      <td>4</td>\n",
       "      <td>5-7 Lakh</td>\n",
       "      <td>7</td>\n",
       "      <td>no</td>\n",
       "    </tr>\n",
       "    <tr>\n",
       "      <th>3</th>\n",
       "      <td>Pooja</td>\n",
       "      <td>pooja@xyz.com</td>\n",
       "      <td>1</td>\n",
       "      <td>Art of Resume Building</td>\n",
       "      <td>Attending</td>\n",
       "      <td>Pillai College of Engineering New Panvel</td>\n",
       "      <td>Email</td>\n",
       "      <td>Others</td>\n",
       "      <td>Students</td>\n",
       "      <td>2025</td>\n",
       "      <td>Tirupati</td>\n",
       "      <td>8.7</td>\n",
       "      <td>7</td>\n",
       "      <td>2-5 Lakh</td>\n",
       "      <td>8</td>\n",
       "      <td>no</td>\n",
       "    </tr>\n",
       "    <tr>\n",
       "      <th>4</th>\n",
       "      <td>Aayush</td>\n",
       "      <td>aayush@xyz.com</td>\n",
       "      <td>1</td>\n",
       "      <td>Art of Resume Building</td>\n",
       "      <td>Attending</td>\n",
       "      <td>St Xavier's College</td>\n",
       "      <td>Instagram | LinkedIn | Cloud Counselage Website</td>\n",
       "      <td>Others</td>\n",
       "      <td>Students</td>\n",
       "      <td>2024</td>\n",
       "      <td>Vijaywada</td>\n",
       "      <td>9.1</td>\n",
       "      <td>3</td>\n",
       "      <td>0-2 Lakh</td>\n",
       "      <td>10</td>\n",
       "      <td>yes</td>\n",
       "    </tr>\n",
       "  </tbody>\n",
       "</table>\n",
       "</div>"
      ],
      "text/plain": [
       "  First Name           Email ID  Quantity                  Events  \\\n",
       "0     ANIKET     aniket@xyz.com         1  Art of Resume Building   \n",
       "1  Dhanshree  dhanshree@xyz.com         1  Art of Resume Building   \n",
       "2     Dhiraj     dhiraj@xyz.com         1  Art of Resume Building   \n",
       "3      Pooja      pooja@xyz.com         1  Art of Resume Building   \n",
       "4     Aayush     aayush@xyz.com         1  Art of Resume Building   \n",
       "\n",
       "  Attendee Status                                       College Name  \\\n",
       "0       Attending  D Y PATIL INSTITUTE OF MCA AND MANAGEMENT AKUR...   \n",
       "1       Attending                   AP SHAH INSTITUTE OF TECHNOLOGY    \n",
       "2       Attending       Don Bosco College of Engineering Fatorda Goa   \n",
       "3       Attending           Pillai College of Engineering New Panvel   \n",
       "4       Attending                               St Xavier's College    \n",
       "\n",
       "        How did you come to know about this event?  \\\n",
       "0                                            Email   \n",
       "1                                           Others   \n",
       "2                                            Email   \n",
       "3                                            Email   \n",
       "4  Instagram | LinkedIn | Cloud Counselage Website   \n",
       "\n",
       "  Specify in \"Others\" (how did you come to know about this event) Designation  \\\n",
       "0                                             Others                 Students   \n",
       "1                                            College                 Students   \n",
       "2                                             Others                 Students   \n",
       "3                                             Others                 Students   \n",
       "4                                             Others                 Students   \n",
       "\n",
       "   Year of Graduation       City  CGPA  Experience with python (Months)  \\\n",
       "0                2024      Patna   6.7                                7   \n",
       "1                2024   Amravati   8.2                                3   \n",
       "2                2023    Kunrool   6.5                                4   \n",
       "3                2025   Tirupati   8.7                                7   \n",
       "4                2024  Vijaywada   9.1                                3   \n",
       "\n",
       "  Family Income  Expected salary (Lac) Leadership- skills  \n",
       "0       7 Lakh+                      6                yes  \n",
       "1      0-2 Lakh                      7                 no  \n",
       "2      5-7 Lakh                      7                 no  \n",
       "3      2-5 Lakh                      8                 no  \n",
       "4      0-2 Lakh                     10                yes  "
      ]
     },
     "execution_count": 5,
     "metadata": {},
     "output_type": "execute_result"
    }
   ],
   "source": [
    "df.head()"
   ]
  },
  {
   "cell_type": "code",
   "execution_count": 6,
   "id": "95460ac1",
   "metadata": {},
   "outputs": [
    {
     "data": {
      "text/html": [
       "<div>\n",
       "<style scoped>\n",
       "    .dataframe tbody tr th:only-of-type {\n",
       "        vertical-align: middle;\n",
       "    }\n",
       "\n",
       "    .dataframe tbody tr th {\n",
       "        vertical-align: top;\n",
       "    }\n",
       "\n",
       "    .dataframe thead th {\n",
       "        text-align: right;\n",
       "    }\n",
       "</style>\n",
       "<table border=\"1\" class=\"dataframe\">\n",
       "  <thead>\n",
       "    <tr style=\"text-align: right;\">\n",
       "      <th></th>\n",
       "      <th>First Name</th>\n",
       "      <th>Email ID</th>\n",
       "      <th>Quantity</th>\n",
       "      <th>Events</th>\n",
       "      <th>Attendee Status</th>\n",
       "      <th>College Name</th>\n",
       "      <th>How did you come to know about this event?</th>\n",
       "      <th>Specify in \"Others\" (how did you come to know about this event)</th>\n",
       "      <th>Designation</th>\n",
       "      <th>Year of Graduation</th>\n",
       "      <th>City</th>\n",
       "      <th>CGPA</th>\n",
       "      <th>Experience with python (Months)</th>\n",
       "      <th>Family Income</th>\n",
       "      <th>Expected salary (Lac)</th>\n",
       "      <th>Leadership- skills</th>\n",
       "    </tr>\n",
       "  </thead>\n",
       "  <tbody>\n",
       "    <tr>\n",
       "      <th>4889</th>\n",
       "      <td>Patel Niraj</td>\n",
       "      <td>patelniraj@xyz.com</td>\n",
       "      <td>1</td>\n",
       "      <td>The SDLC &amp; their transformations</td>\n",
       "      <td>Attending</td>\n",
       "      <td>thakur institute of management studies, career...</td>\n",
       "      <td>LinkedIn | Whatsapp | Email</td>\n",
       "      <td>Others</td>\n",
       "      <td>Students</td>\n",
       "      <td>2024</td>\n",
       "      <td>Jodhpur</td>\n",
       "      <td>6.9</td>\n",
       "      <td>6</td>\n",
       "      <td>0-2 Lakh</td>\n",
       "      <td>15</td>\n",
       "      <td>yes</td>\n",
       "    </tr>\n",
       "    <tr>\n",
       "      <th>4890</th>\n",
       "      <td>VIDIT</td>\n",
       "      <td>vidit@xyz.com</td>\n",
       "      <td>1</td>\n",
       "      <td>Data Visualization using Power BI</td>\n",
       "      <td>Attending</td>\n",
       "      <td>government polytechnic gandhinagar</td>\n",
       "      <td>NaN</td>\n",
       "      <td>Others</td>\n",
       "      <td>Students</td>\n",
       "      <td>2023</td>\n",
       "      <td>Jalgaon</td>\n",
       "      <td>6.5</td>\n",
       "      <td>6</td>\n",
       "      <td>0-2 Lakh</td>\n",
       "      <td>8</td>\n",
       "      <td>no</td>\n",
       "    </tr>\n",
       "    <tr>\n",
       "      <th>4891</th>\n",
       "      <td>Suryaprakash</td>\n",
       "      <td>suryaprakash@xyz.com</td>\n",
       "      <td>1</td>\n",
       "      <td>Data Visualization using Power BI</td>\n",
       "      <td>Attending</td>\n",
       "      <td>vishwakarma institute of technology, pune</td>\n",
       "      <td>NaN</td>\n",
       "      <td>Others</td>\n",
       "      <td>Students</td>\n",
       "      <td>2024</td>\n",
       "      <td>Thane</td>\n",
       "      <td>6.9</td>\n",
       "      <td>5</td>\n",
       "      <td>0-2 Lakh</td>\n",
       "      <td>7</td>\n",
       "      <td>no</td>\n",
       "    </tr>\n",
       "    <tr>\n",
       "      <th>4892</th>\n",
       "      <td>Saif ali</td>\n",
       "      <td>saifali@xyz.com</td>\n",
       "      <td>1</td>\n",
       "      <td>Data Visualization using Power BI</td>\n",
       "      <td>Attending</td>\n",
       "      <td>mit academy of engineering ,alandi</td>\n",
       "      <td>NaN</td>\n",
       "      <td>Others</td>\n",
       "      <td>Students</td>\n",
       "      <td>2024</td>\n",
       "      <td>Patiala</td>\n",
       "      <td>9.0</td>\n",
       "      <td>3</td>\n",
       "      <td>0-2 Lakh</td>\n",
       "      <td>23</td>\n",
       "      <td>yes</td>\n",
       "    </tr>\n",
       "    <tr>\n",
       "      <th>4893</th>\n",
       "      <td>Lankesh</td>\n",
       "      <td>lankesh@xyz.com</td>\n",
       "      <td>1</td>\n",
       "      <td>Data Visualization using Power BI</td>\n",
       "      <td>Attending</td>\n",
       "      <td>a. c. patil college of engineering</td>\n",
       "      <td>NaN</td>\n",
       "      <td>Others</td>\n",
       "      <td>Students</td>\n",
       "      <td>2025</td>\n",
       "      <td>Sangrur</td>\n",
       "      <td>7.2</td>\n",
       "      <td>8</td>\n",
       "      <td>0-2 Lakh</td>\n",
       "      <td>9</td>\n",
       "      <td>yes</td>\n",
       "    </tr>\n",
       "  </tbody>\n",
       "</table>\n",
       "</div>"
      ],
      "text/plain": [
       "        First Name              Email ID  Quantity  \\\n",
       "4889   Patel Niraj    patelniraj@xyz.com         1   \n",
       "4890         VIDIT         vidit@xyz.com         1   \n",
       "4891  Suryaprakash  suryaprakash@xyz.com         1   \n",
       "4892      Saif ali       saifali@xyz.com         1   \n",
       "4893       Lankesh       lankesh@xyz.com         1   \n",
       "\n",
       "                                 Events Attendee Status  \\\n",
       "4889   The SDLC & their transformations       Attending   \n",
       "4890  Data Visualization using Power BI       Attending   \n",
       "4891  Data Visualization using Power BI       Attending   \n",
       "4892  Data Visualization using Power BI       Attending   \n",
       "4893  Data Visualization using Power BI       Attending   \n",
       "\n",
       "                                           College Name  \\\n",
       "4889  thakur institute of management studies, career...   \n",
       "4890                 government polytechnic gandhinagar   \n",
       "4891          vishwakarma institute of technology, pune   \n",
       "4892                 mit academy of engineering ,alandi   \n",
       "4893                 a. c. patil college of engineering   \n",
       "\n",
       "     How did you come to know about this event?  \\\n",
       "4889                LinkedIn | Whatsapp | Email   \n",
       "4890                                        NaN   \n",
       "4891                                        NaN   \n",
       "4892                                        NaN   \n",
       "4893                                        NaN   \n",
       "\n",
       "     Specify in \"Others\" (how did you come to know about this event)  \\\n",
       "4889                                             Others                \n",
       "4890                                             Others                \n",
       "4891                                             Others                \n",
       "4892                                             Others                \n",
       "4893                                             Others                \n",
       "\n",
       "     Designation  Year of Graduation     City  CGPA  \\\n",
       "4889    Students                2024  Jodhpur   6.9   \n",
       "4890    Students                2023  Jalgaon   6.5   \n",
       "4891    Students                2024    Thane   6.9   \n",
       "4892    Students                2024  Patiala   9.0   \n",
       "4893    Students                2025  Sangrur   7.2   \n",
       "\n",
       "      Experience with python (Months) Family Income  Expected salary (Lac)  \\\n",
       "4889                                6      0-2 Lakh                     15   \n",
       "4890                                6      0-2 Lakh                      8   \n",
       "4891                                5      0-2 Lakh                      7   \n",
       "4892                                3      0-2 Lakh                     23   \n",
       "4893                                8      0-2 Lakh                      9   \n",
       "\n",
       "     Leadership- skills  \n",
       "4889                yes  \n",
       "4890                 no  \n",
       "4891                 no  \n",
       "4892                yes  \n",
       "4893                yes  "
      ]
     },
     "execution_count": 6,
     "metadata": {},
     "output_type": "execute_result"
    }
   ],
   "source": [
    "df.tail()"
   ]
  },
  {
   "cell_type": "code",
   "execution_count": 7,
   "id": "f687d307",
   "metadata": {},
   "outputs": [
    {
     "data": {
      "text/plain": [
       "(4894, 16)"
      ]
     },
     "execution_count": 7,
     "metadata": {},
     "output_type": "execute_result"
    }
   ],
   "source": [
    "df.shape"
   ]
  },
  {
   "cell_type": "code",
   "execution_count": 8,
   "id": "e1de7cdd",
   "metadata": {},
   "outputs": [
    {
     "data": {
      "text/plain": [
       "Index(['First Name', 'Email ID', 'Quantity', 'Events', 'Attendee Status',\n",
       "       'College Name', 'How did you come to know about this event?',\n",
       "       'Specify in \"Others\" (how did you come to know about this event)',\n",
       "       'Designation', 'Year of Graduation', 'City', 'CGPA',\n",
       "       'Experience with python (Months)', 'Family Income',\n",
       "       'Expected salary (Lac)', 'Leadership- skills'],\n",
       "      dtype='object')"
      ]
     },
     "execution_count": 8,
     "metadata": {},
     "output_type": "execute_result"
    }
   ],
   "source": [
    "df.columns"
   ]
  },
  {
   "cell_type": "code",
   "execution_count": 9,
   "id": "2cead502",
   "metadata": {},
   "outputs": [
    {
     "name": "stdout",
     "output_type": "stream",
     "text": [
      "<class 'pandas.core.frame.DataFrame'>\n",
      "RangeIndex: 4894 entries, 0 to 4893\n",
      "Data columns (total 16 columns):\n",
      " #   Column                                                           Non-Null Count  Dtype  \n",
      "---  ------                                                           --------------  -----  \n",
      " 0   First Name                                                       4894 non-null   object \n",
      " 1   Email ID                                                         4894 non-null   object \n",
      " 2   Quantity                                                         4894 non-null   int64  \n",
      " 3   Events                                                           4894 non-null   object \n",
      " 4   Attendee Status                                                  4894 non-null   object \n",
      " 5   College Name                                                     4879 non-null   object \n",
      " 6   How did you come to know about this event?                       2678 non-null   object \n",
      " 7   Specify in \"Others\" (how did you come to know about this event)  4894 non-null   object \n",
      " 8   Designation                                                      4894 non-null   object \n",
      " 9   Year of Graduation                                               4894 non-null   int64  \n",
      " 10  City                                                             4894 non-null   object \n",
      " 11  CGPA                                                             4894 non-null   float64\n",
      " 12  Experience with python (Months)                                  4894 non-null   int64  \n",
      " 13  Family Income                                                    4894 non-null   object \n",
      " 14  Expected salary (Lac)                                            4894 non-null   int64  \n",
      " 15  Leadership- skills                                               4894 non-null   object \n",
      "dtypes: float64(1), int64(4), object(11)\n",
      "memory usage: 611.9+ KB\n"
     ]
    }
   ],
   "source": [
    "df.info()"
   ]
  },
  {
   "cell_type": "code",
   "execution_count": 10,
   "id": "5409936d",
   "metadata": {},
   "outputs": [
    {
     "data": {
      "text/html": [
       "<div>\n",
       "<style scoped>\n",
       "    .dataframe tbody tr th:only-of-type {\n",
       "        vertical-align: middle;\n",
       "    }\n",
       "\n",
       "    .dataframe tbody tr th {\n",
       "        vertical-align: top;\n",
       "    }\n",
       "\n",
       "    .dataframe thead th {\n",
       "        text-align: right;\n",
       "    }\n",
       "</style>\n",
       "<table border=\"1\" class=\"dataframe\">\n",
       "  <thead>\n",
       "    <tr style=\"text-align: right;\">\n",
       "      <th></th>\n",
       "      <th>Quantity</th>\n",
       "      <th>Year of Graduation</th>\n",
       "      <th>CGPA</th>\n",
       "      <th>Experience with python (Months)</th>\n",
       "      <th>Expected salary (Lac)</th>\n",
       "    </tr>\n",
       "  </thead>\n",
       "  <tbody>\n",
       "    <tr>\n",
       "      <th>count</th>\n",
       "      <td>4894.0</td>\n",
       "      <td>4894.000000</td>\n",
       "      <td>4894.000000</td>\n",
       "      <td>4894.000000</td>\n",
       "      <td>4894.000000</td>\n",
       "    </tr>\n",
       "    <tr>\n",
       "      <th>mean</th>\n",
       "      <td>1.0</td>\n",
       "      <td>2024.176951</td>\n",
       "      <td>8.038476</td>\n",
       "      <td>5.395586</td>\n",
       "      <td>13.935635</td>\n",
       "    </tr>\n",
       "    <tr>\n",
       "      <th>std</th>\n",
       "      <td>0.0</td>\n",
       "      <td>1.000180</td>\n",
       "      <td>1.005184</td>\n",
       "      <td>1.705364</td>\n",
       "      <td>6.451959</td>\n",
       "    </tr>\n",
       "    <tr>\n",
       "      <th>min</th>\n",
       "      <td>1.0</td>\n",
       "      <td>2023.000000</td>\n",
       "      <td>6.200000</td>\n",
       "      <td>3.000000</td>\n",
       "      <td>5.000000</td>\n",
       "    </tr>\n",
       "    <tr>\n",
       "      <th>25%</th>\n",
       "      <td>1.0</td>\n",
       "      <td>2023.000000</td>\n",
       "      <td>7.200000</td>\n",
       "      <td>4.000000</td>\n",
       "      <td>8.000000</td>\n",
       "    </tr>\n",
       "    <tr>\n",
       "      <th>50%</th>\n",
       "      <td>1.0</td>\n",
       "      <td>2024.000000</td>\n",
       "      <td>7.900000</td>\n",
       "      <td>5.000000</td>\n",
       "      <td>13.000000</td>\n",
       "    </tr>\n",
       "    <tr>\n",
       "      <th>75%</th>\n",
       "      <td>1.0</td>\n",
       "      <td>2025.000000</td>\n",
       "      <td>8.900000</td>\n",
       "      <td>7.000000</td>\n",
       "      <td>19.000000</td>\n",
       "    </tr>\n",
       "    <tr>\n",
       "      <th>max</th>\n",
       "      <td>1.0</td>\n",
       "      <td>2026.000000</td>\n",
       "      <td>9.900000</td>\n",
       "      <td>8.000000</td>\n",
       "      <td>35.000000</td>\n",
       "    </tr>\n",
       "  </tbody>\n",
       "</table>\n",
       "</div>"
      ],
      "text/plain": [
       "       Quantity  Year of Graduation         CGPA  \\\n",
       "count    4894.0         4894.000000  4894.000000   \n",
       "mean        1.0         2024.176951     8.038476   \n",
       "std         0.0            1.000180     1.005184   \n",
       "min         1.0         2023.000000     6.200000   \n",
       "25%         1.0         2023.000000     7.200000   \n",
       "50%         1.0         2024.000000     7.900000   \n",
       "75%         1.0         2025.000000     8.900000   \n",
       "max         1.0         2026.000000     9.900000   \n",
       "\n",
       "       Experience with python (Months)  Expected salary (Lac)  \n",
       "count                      4894.000000            4894.000000  \n",
       "mean                          5.395586              13.935635  \n",
       "std                           1.705364               6.451959  \n",
       "min                           3.000000               5.000000  \n",
       "25%                           4.000000               8.000000  \n",
       "50%                           5.000000              13.000000  \n",
       "75%                           7.000000              19.000000  \n",
       "max                           8.000000              35.000000  "
      ]
     },
     "execution_count": 10,
     "metadata": {},
     "output_type": "execute_result"
    }
   ],
   "source": [
    "df.describe()"
   ]
  },
  {
   "cell_type": "code",
   "execution_count": 11,
   "id": "359970b6",
   "metadata": {},
   "outputs": [
    {
     "data": {
      "text/html": [
       "<div>\n",
       "<style scoped>\n",
       "    .dataframe tbody tr th:only-of-type {\n",
       "        vertical-align: middle;\n",
       "    }\n",
       "\n",
       "    .dataframe tbody tr th {\n",
       "        vertical-align: top;\n",
       "    }\n",
       "\n",
       "    .dataframe thead th {\n",
       "        text-align: right;\n",
       "    }\n",
       "</style>\n",
       "<table border=\"1\" class=\"dataframe\">\n",
       "  <thead>\n",
       "    <tr style=\"text-align: right;\">\n",
       "      <th></th>\n",
       "      <th>First Name</th>\n",
       "      <th>Email ID</th>\n",
       "      <th>Events</th>\n",
       "      <th>Attendee Status</th>\n",
       "      <th>College Name</th>\n",
       "      <th>How did you come to know about this event?</th>\n",
       "      <th>Specify in \"Others\" (how did you come to know about this event)</th>\n",
       "      <th>Designation</th>\n",
       "      <th>City</th>\n",
       "      <th>Family Income</th>\n",
       "      <th>Leadership- skills</th>\n",
       "    </tr>\n",
       "  </thead>\n",
       "  <tbody>\n",
       "    <tr>\n",
       "      <th>count</th>\n",
       "      <td>4894</td>\n",
       "      <td>4894</td>\n",
       "      <td>4894</td>\n",
       "      <td>4894</td>\n",
       "      <td>4879</td>\n",
       "      <td>2678</td>\n",
       "      <td>4894</td>\n",
       "      <td>4894</td>\n",
       "      <td>4894</td>\n",
       "      <td>4894</td>\n",
       "      <td>4894</td>\n",
       "    </tr>\n",
       "    <tr>\n",
       "      <th>unique</th>\n",
       "      <td>2324</td>\n",
       "      <td>2157</td>\n",
       "      <td>16</td>\n",
       "      <td>2</td>\n",
       "      <td>55</td>\n",
       "      <td>99</td>\n",
       "      <td>12</td>\n",
       "      <td>49</td>\n",
       "      <td>177</td>\n",
       "      <td>4</td>\n",
       "      <td>3</td>\n",
       "    </tr>\n",
       "    <tr>\n",
       "      <th>top</th>\n",
       "      <td>Patel</td>\n",
       "      <td>patel@xyz.com</td>\n",
       "      <td>Product Design &amp; Full Stack</td>\n",
       "      <td>Attending</td>\n",
       "      <td>priyadarshini college of engineering, nagpur</td>\n",
       "      <td>Whatsapp</td>\n",
       "      <td>Others</td>\n",
       "      <td>Students</td>\n",
       "      <td>Chandigarh</td>\n",
       "      <td>0-2 Lakh</td>\n",
       "      <td>no</td>\n",
       "    </tr>\n",
       "    <tr>\n",
       "      <th>freq</th>\n",
       "      <td>41</td>\n",
       "      <td>60</td>\n",
       "      <td>842</td>\n",
       "      <td>4882</td>\n",
       "      <td>261</td>\n",
       "      <td>1067</td>\n",
       "      <td>4805</td>\n",
       "      <td>4544</td>\n",
       "      <td>57</td>\n",
       "      <td>4525</td>\n",
       "      <td>2611</td>\n",
       "    </tr>\n",
       "  </tbody>\n",
       "</table>\n",
       "</div>"
      ],
      "text/plain": [
       "       First Name       Email ID                       Events Attendee Status  \\\n",
       "count        4894           4894                         4894            4894   \n",
       "unique       2324           2157                           16               2   \n",
       "top         Patel  patel@xyz.com  Product Design & Full Stack       Attending   \n",
       "freq           41             60                          842            4882   \n",
       "\n",
       "                                         College Name  \\\n",
       "count                                            4879   \n",
       "unique                                             55   \n",
       "top     priyadarshini college of engineering, nagpur    \n",
       "freq                                              261   \n",
       "\n",
       "       How did you come to know about this event?  \\\n",
       "count                                        2678   \n",
       "unique                                         99   \n",
       "top                                      Whatsapp   \n",
       "freq                                         1067   \n",
       "\n",
       "       Specify in \"Others\" (how did you come to know about this event)  \\\n",
       "count                                                4894                \n",
       "unique                                                 12                \n",
       "top                                                Others                \n",
       "freq                                                 4805                \n",
       "\n",
       "       Designation        City Family Income Leadership- skills  \n",
       "count         4894        4894          4894               4894  \n",
       "unique          49         177             4                  3  \n",
       "top       Students  Chandigarh      0-2 Lakh                 no  \n",
       "freq          4544          57          4525               2611  "
      ]
     },
     "execution_count": 11,
     "metadata": {},
     "output_type": "execute_result"
    }
   ],
   "source": [
    "df.describe(include = 'object')"
   ]
  },
  {
   "cell_type": "code",
   "execution_count": 12,
   "id": "44118791",
   "metadata": {},
   "outputs": [
    {
     "name": "stdout",
     "output_type": "stream",
     "text": [
      "First Name\n",
      "['ANIKET' 'Dhanshree' 'Dhiraj' ... 'Suryaprakash' 'Saif ali' 'Lankesh']\n",
      "----------------------------------------------------------------------------------------------------\n",
      "Email ID\n",
      "['aniket@xyz.com' 'dhanshree@xyz.com' 'dhiraj@xyz.com' ...\n",
      " 'suryaprakash@xyz.com' 'saifali@xyz.com' 'lankesh@xyz.com']\n",
      "----------------------------------------------------------------------------------------------------\n",
      "Events\n",
      "['Art of Resume Building' 'Data Visualization using Power BI'\n",
      " 'Artificial Intelligence' 'Hello ML and DL' 'Product Marketing'\n",
      " 'IAC - Q&A' 'Internship Program(IP) Success Conclave'\n",
      " 'IS DATA SCIENCE FOR YOU?' 'KYC - Know Your CCPC'\n",
      " 'Product Design & Full Stack' 'RPA: A Boon or A Bane'\n",
      " 'Skill and Employability Enhancement'\n",
      " 'Talk on Skill and Employability Enhancement' 'The Agile Ways of Working'\n",
      " 'The SDLC & their transformations'\n",
      " 'Transformation with DevOps: The Easy Way']\n",
      "----------------------------------------------------------------------------------------------------\n",
      "Attendee Status\n",
      "['Attending' 'NAN']\n",
      "----------------------------------------------------------------------------------------------------\n",
      "College Name\n",
      "['D Y PATIL INSTITUTE OF MCA AND MANAGEMENT AKURDI PUNE'\n",
      " 'AP SHAH INSTITUTE OF TECHNOLOGY '\n",
      " 'Don Bosco College of Engineering Fatorda Goa'\n",
      " 'Pillai College of Engineering New Panvel' \"St Xavier's College \"\n",
      " 'Vidyalankar Institute of Technology, Mumbai'\n",
      " 'S.I.E.S. Graduate School Of Technology, Nerul, Navi Mumbai'\n",
      " 'G H Raisoni institut of engineering and technology pune'\n",
      " 'GOVERNMENT POLYTECHNIC GANDHINAGAR'\n",
      " 'B. K. Birla College of Arts, Science & Commerce (Autonomous), Kalyan'\n",
      " 'Vishwakarma Institute of Technology, Pune'\n",
      " \"KLE Society's College of BCA, RLS Institute, Belagavi\"\n",
      " 'Priyadarshini college of engineering, Nagpur '\n",
      " 'St.Francis Institute of Technology'\n",
      " 'New horizon institute of Technology and Management '\n",
      " 'Late G. N. Sapkal College Of Engineering'\n",
      " 'MIT Academy Of Engineering ,Alandi' 'A. C. Patil College of Engineering'\n",
      " 'Wilson college ' 'LD College of engineering, Ahmedabad, Gujarat '\n",
      " \"DKTE Society's Textile And Engineering Institute Ichalkaranji\"\n",
      " 'THAKUR INSTITUTE OF MANAGEMENT STUDIES, CAREER DEVELOPMENT & RESEARCH - [TIMSCDR]'\n",
      " 'LOKMANYA TILAK COLLEGE OF ENGINEERING KOPARKHAIRANE NAVI MUMBAI'\n",
      " 'CHHATTISGARH SWAMI VIVEKANANDA TECHNICAL UNIVERSITY TEACHING DEPARTMENT BHILAI'\n",
      " 'ADHIYAMAAN COLLEGE OF ENGINEERING'\n",
      " 'Symbiosis Institute of Technology, Pune' nan\n",
      " 'Silicon Institute of Technology' 'adhiyamaan college of engineering'\n",
      " 'don bosco college of engineering fatorda goa'\n",
      " 'pillai college of engineering new panvel' \"st xavier's college \"\n",
      " 's.i.e.s. graduate school of technology, nerul, navi mumbai'\n",
      " 'g h raisoni institut of engineering and technology pune'\n",
      " 'government polytechnic gandhinagar'\n",
      " 'vishwakarma institute of technology, pune'\n",
      " \"kle society's college of bca, rls institute, belagavi\"\n",
      " 'b. k. birla college of arts, science & commerce (autonomous), kalyan'\n",
      " 'st.francis institute of technology'\n",
      " 'new horizon institute of technology and management '\n",
      " 'late g. n. sapkal college of engineering'\n",
      " 'a. c. patil college of engineering' 'wilson college '\n",
      " 'ld college of engineering, ahmedabad, gujarat '\n",
      " \"dkte society's textile and engineering institute ichalkaranji\"\n",
      " 'priyadarshini college of engineering, nagpur '\n",
      " 'symbiosis institute of technology, pune'\n",
      " 'd y patil institute of mca and management akurdi pune'\n",
      " 'ap shah institute of technology '\n",
      " 'vidyalankar institute of technology, mumbai'\n",
      " 'mit academy of engineering ,alandi'\n",
      " 'thakur institute of management studies, career development & research - [timscdr]'\n",
      " 'chhattisgarh swami vivekananda technical university teaching department bhilai'\n",
      " 'silicon institute of technology'\n",
      " 'lokmanya tilak college of engineering koparkhairane navi mumbai' 'na']\n",
      "----------------------------------------------------------------------------------------------------\n",
      "How did you come to know about this event?\n",
      "['Email' 'Others' 'Instagram | LinkedIn | Cloud Counselage Website'\n",
      " 'Whatsapp' 'LinkedIn' 'Cloud Counselage Website'\n",
      " 'Instagram | Whatsapp | Email' 'Youtube' 'Whatsapp | Others'\n",
      " 'Instagram | Whatsapp' 'Youtube | Whatsapp | Email' 'Facebook'\n",
      " 'Youtube | Facebook | Instagram | LinkedIn | Whatsapp | Email'\n",
      " 'Instagram | Email' 'LinkedIn | Email | Cloud Counselage Website'\n",
      " 'Youtube | Facebook | Instagram | Whatsapp | Email' 'Email | Others'\n",
      " 'LinkedIn | Whatsapp' 'Youtube | Facebook'\n",
      " 'Email | Cloud Counselage Website' 'Whatsapp | Email' 'LinkedIn | Email'\n",
      " 'Youtube | Email'\n",
      " 'Youtube | Facebook | Instagram | LinkedIn | Whatsapp | Email | Cloud Counselage Website'\n",
      " 'Facebook | Whatsapp' 'Youtube | Whatsapp'\n",
      " 'Youtube | Facebook | Instagram | LinkedIn | Whatsapp | Email | Cloud Counselage Website | Others'\n",
      " 'Youtube | Facebook | Whatsapp | Email' 'Facebook | Instagram'\n",
      " 'Email | SPOC/ College Professor' 'SPOC/ College Professor'\n",
      " 'Cloud Counselage Website | Others' nan\n",
      " 'Whatsapp | SPOC/ College Professor' 'Friend/ Classmate'\n",
      " 'Youtube | Facebook | Instagram | Email | Cloud Counselage Website'\n",
      " 'Whatsapp | Cloud Counselage Website' 'Whatsapp | Telegram' 'Twitter'\n",
      " 'LinkedIn | Cloud Counselage Website' 'Whatsapp | Email | Others'\n",
      " 'Instagram' 'Instagram | LinkedIn | Email | Cloud Counselage Website'\n",
      " 'Youtube | Facebook | Instagram | Whatsapp'\n",
      " 'Whatsapp | Friend/ Classmate'\n",
      " 'Whatsapp | Friend/ Classmate | SPOC/ College Professor'\n",
      " 'Friend/ Classmate | SPOC/ College Professor'\n",
      " 'LinkedIn | Email | Cloud Counselage Website | Telegram'\n",
      " 'Cloud Counselage Website | SPOC/ College Professor'\n",
      " 'Whatsapp | Cloud Counselage Website | SPOC/ College Professor'\n",
      " 'Youtube | Facebook | Instagram | LinkedIn | Whatsapp | Email | Cloud Counselage Website | Telegram | Twitter'\n",
      " 'Telegram' 'LinkedIn | Whatsapp | Email'\n",
      " 'Youtube | Facebook | Instagram | Whatsapp | Email | Cloud Counselage Website | Friend/ Classmate | SPOC/ College Professor'\n",
      " 'Youtube | Facebook | Instagram | Whatsapp | Email | Cloud Counselage Website | Telegram | Twitter | Friend/ Classmate'\n",
      " 'Youtube | Others' 'Instagram | Friend/ Classmate'\n",
      " 'Youtube | Cloud Counselage Website | SPOC/ College Professor'\n",
      " 'Youtube | Instagram | Whatsapp' 'Youtube | Friend/ Classmate'\n",
      " 'LinkedIn | Whatsapp | Cloud Counselage Website | Friend/ Classmate'\n",
      " 'LinkedIn | SPOC/ College Professor' 'Instagram | LinkedIn'\n",
      " 'Youtube | Instagram | Whatsapp | Telegram | Twitter'\n",
      " 'Youtube | Facebook | Instagram | Whatsapp | Email | Friend/ Classmate'\n",
      " 'Youtube | Whatsapp | Friend/ Classmate' 'Telegram | Friend/ Classmate'\n",
      " 'Youtube | Instagram | Whatsapp | Email' 'LinkedIn | Email | Telegram'\n",
      " 'Cloud Counselage Website | Friend/ Classmate' 'Youtube | Email | Others'\n",
      " 'Youtube | LinkedIn | Whatsapp | Email' 'Whatsapp | Email | Telegram'\n",
      " 'Youtube | Instagram' 'LinkedIn | Telegram'\n",
      " 'Email | Cloud Counselage Website | Telegram'\n",
      " 'Youtube | Facebook | Instagram | LinkedIn | Whatsapp | Email | Telegram | Friend/ Classmate'\n",
      " 'Youtube | Facebook | Instagram | LinkedIn | Whatsapp'\n",
      " 'Instagram | Whatsapp | Cloud Counselage Website'\n",
      " 'Whatsapp | Email | Cloud Counselage Website'\n",
      " 'Youtube | Instagram | Whatsapp | Cloud Counselage Website'\n",
      " 'Facebook | Cloud Counselage Website' 'Facebook | LinkedIn'\n",
      " 'Youtube | Facebook | Instagram | Email'\n",
      " 'Youtube | LinkedIn | Cloud Counselage Website'\n",
      " 'Facebook | Instagram | Whatsapp | Email'\n",
      " 'Youtube | Instagram | LinkedIn | Whatsapp | Email'\n",
      " 'Youtube | Instagram | Whatsapp | Email | Cloud Counselage Website'\n",
      " 'Youtube | Whatsapp | Email | Cloud Counselage Website'\n",
      " 'Whatsapp | Email | Cloud Counselage Website | SPOC/ College Professor'\n",
      " 'Youtube | Facebook | Instagram | LinkedIn | Whatsapp | Email | Telegram | Twitter | Friend/ Classmate'\n",
      " 'Youtube | Facebook | Instagram | LinkedIn | Email | Cloud Counselage Website'\n",
      " 'Whatsapp | Cloud Counselage Website | Others'\n",
      " 'Cloud Counselage Website | Friend/ Classmate | SPOC/ College Professor'\n",
      " 'Youtube | Facebook | Instagram | Whatsapp | Email | Telegram | Twitter | Friend/ Classmate'\n",
      " 'Others | SPOC/ College Professor' 'Youtube | Facebook | Whatsapp'\n",
      " 'LinkedIn | Whatsapp | Cloud Counselage Website'\n",
      " 'Instagram | Whatsapp | Email | Others'\n",
      " 'Youtube | Whatsapp | Cloud Counselage Website']\n",
      "----------------------------------------------------------------------------------------------------\n",
      "Specify in \"Others\" (how did you come to know about this event)\n",
      "['Others' 'College' 'Friends' 'Interested' 'Attend' 'Telegram'\n",
      " 'Team entity' 'You tube' 'Twitter ' 'Yuva Sena/Shiv Sena' 'Institute'\n",
      " 'From Academy']\n",
      "----------------------------------------------------------------------------------------------------\n",
      "Designation\n",
      "['Students' 'Principal' 'Asst. Professor' 'HoD' 'Professor'\n",
      " 'Computer Engineer' 'Interior designer' 'CVO' 'Web Development'\n",
      " 'Data Science and Analyst' 'B.Tech' 'Engineering ' 'CEO' 'Intern'\n",
      " 'Artificial intelligence' 'Cyber Security' 'Software developer' 'CS'\n",
      " 'Administrative Officer ' 'IT' 'BE' 'Software Engineer' 'IT Engineering'\n",
      " 'Digital Marketing Intern' 'Computer applications' 'MBA Student'\n",
      " 'Recruitment Manager' 'BE CS'\n",
      " 'Executive Security Operations Center (SOC)' 'BE IT'\n",
      " 'Mechanical Engineer' 'Civil Engineering' 'Research Scholar'\n",
      " 'Key Account manager' 'B Sc IT' 'Graphic designer ' 'CSE' 'MTech'\n",
      " 'Founder' 'Sr. Manager' 'Flutter Developer' 'Electrical Engineering'\n",
      " 'Director T& P' 'MCA' 'Aerospace engineer ' 'SPC'\n",
      " 'PGDM Marketing student' 'Django' 'Diploma In Electrical Engineering']\n",
      "----------------------------------------------------------------------------------------------------\n",
      "City\n",
      "['Patna' 'Amravati' 'Kunrool' 'Tirupati' 'Vijaywada' 'Eluru' 'Guwahati'\n",
      " 'Nagaon' 'Tezpur' 'Sivasagar' 'Burani' 'Dehri' 'Chapra' 'Darbhanga'\n",
      " 'Gaya' 'Haijipur' 'Kaithar' 'Motihari' 'Munger' 'Muzaffarpur' 'Sasaram'\n",
      " 'Siwan' 'Ambikapur' 'Bhilai' 'Raipur' 'Daman' 'Diu' 'Silvassa' 'Delhi'\n",
      " 'New Delhi' 'Panji' 'Madgaon' 'Ahemdabad' 'Amreli' 'Dwarka' 'Godhra'\n",
      " 'Junagadh' 'Kheda' 'Morbi' 'Navsari' 'Surat' 'Valsad' 'Ambala'\n",
      " 'Chandigarh' 'Faridabad' 'Gurugram' 'Hisar' 'Jind' 'Kaithal' 'Karnal'\n",
      " 'Rewari' 'Rohtak' 'Sirsa' 'Sonipat' 'Chamba' 'Kangra' 'Hamirpur' 'kullu'\n",
      " 'Mandi' 'Una' 'Anantnag' 'Doda' 'Gulmarg' 'Punch' 'Srinagar' 'Udhampur'\n",
      " 'Ballari' 'Hasan' 'Kolar' 'Mysuru' 'Kochi' 'Thrissur' 'Bhopal' 'Dhar'\n",
      " 'Indore' 'Guna' 'Narwar' 'Orchha' 'Sagar' 'Ujjain' 'Vidisha' 'Akola'\n",
      " 'Aurangabad' 'Bhandara' 'Bhsawal' 'Bid' 'Buldhana' 'Dhule' 'Jalgaon'\n",
      " 'Kalyan' 'Thane' 'Navi Mumbai' 'Nagpur' 'Nanded' 'Kolhapur' 'Karli'\n",
      " 'Matheran' 'Nashik' 'Solapur' 'Satara' 'Sangola' 'Vasai' 'Shillong'\n",
      " 'Puri' 'konark' 'Cuttack' 'Amritsar' 'Patiala' 'Sangrur' 'Ajmer' 'Amer'\n",
      " 'Barmer' 'Bikaner' 'Jaipur' 'Jhalwar' 'Jodhpur' 'Sikar' 'Gangtok'\n",
      " 'Hyderbad' 'Nizambad' 'Agartala' 'Agra' 'Aligarh' 'Gonda' 'Ghazipur'\n",
      " 'Ghaziabad' 'Gorakhpur' 'Deoria' 'Budaun' 'Mathura' 'Mainpuri' 'Varanasi'\n",
      " 'Almora' 'Alipore' 'Haora' 'Hugli' 'Palashi' 'Santipur' 'Siliguri'\n",
      " 'Silguri' 'Siuri' 'Talmuk' 'Titagrah' 'Satna' 'Mumbai' 'Kota' 'Jamnagar'\n",
      " 'Nadiad' 'Okha' 'Rajkot' 'Jhansi' 'Kolkata' 'Malda' 'Jalor' 'Jamalpur'\n",
      " 'Durg' 'Shimla' 'Baramula' 'Badmi' 'Bidar' 'Kollam' 'Gwalior' 'Sangli'\n",
      " 'Ulhasnagar' 'Baleshwar' 'Pali' 'Kanpur' 'Mahe' 'Durgapur' 'Panipat'\n",
      " 'Rajouri' 'Bengaluru' 'Pune' 'Wardha' 'Jammu' 'Belgavi' 'Lucknow']\n",
      "----------------------------------------------------------------------------------------------------\n",
      "Family Income\n",
      "['7 Lakh+' '0-2 Lakh' '5-7 Lakh' '2-5 Lakh']\n",
      "----------------------------------------------------------------------------------------------------\n",
      "Leadership- skills\n",
      "['yes' 'no' 'no ']\n",
      "----------------------------------------------------------------------------------------------------\n"
     ]
    }
   ],
   "source": [
    "for col in df.describe(include = 'object').columns:\n",
    "    print(col)\n",
    "    print(df[col].unique())\n",
    "    print(\"-\" * 100)"
   ]
  },
  {
   "cell_type": "code",
   "execution_count": 13,
   "id": "5ade6fd8",
   "metadata": {},
   "outputs": [
    {
     "data": {
      "text/plain": [
       "First Name                                                            0\n",
       "Email ID                                                              0\n",
       "Quantity                                                              0\n",
       "Events                                                                0\n",
       "Attendee Status                                                       0\n",
       "College Name                                                         15\n",
       "How did you come to know about this event?                         2216\n",
       "Specify in \"Others\" (how did you come to know about this event)       0\n",
       "Designation                                                           0\n",
       "Year of Graduation                                                    0\n",
       "City                                                                  0\n",
       "CGPA                                                                  0\n",
       "Experience with python (Months)                                       0\n",
       "Family Income                                                         0\n",
       "Expected salary (Lac)                                                 0\n",
       "Leadership- skills                                                    0\n",
       "dtype: int64"
      ]
     },
     "execution_count": 13,
     "metadata": {},
     "output_type": "execute_result"
    }
   ],
   "source": [
    "df.isnull().sum()"
   ]
  },
  {
   "cell_type": "code",
   "execution_count": 14,
   "id": "deedcf22",
   "metadata": {},
   "outputs": [],
   "source": [
    "# Replacing null Values with \"Others\""
   ]
  },
  {
   "cell_type": "code",
   "execution_count": 15,
   "id": "76c03f92",
   "metadata": {},
   "outputs": [],
   "source": [
    "df['How did you come to know about this event?'].fillna('Others', inplace = True)"
   ]
  },
  {
   "cell_type": "code",
   "execution_count": 16,
   "id": "e53f2137",
   "metadata": {},
   "outputs": [
    {
     "data": {
      "text/plain": [
       "First Name                                                          0\n",
       "Email ID                                                            0\n",
       "Quantity                                                            0\n",
       "Events                                                              0\n",
       "Attendee Status                                                     0\n",
       "College Name                                                       15\n",
       "How did you come to know about this event?                          0\n",
       "Specify in \"Others\" (how did you come to know about this event)     0\n",
       "Designation                                                         0\n",
       "Year of Graduation                                                  0\n",
       "City                                                                0\n",
       "CGPA                                                                0\n",
       "Experience with python (Months)                                     0\n",
       "Family Income                                                       0\n",
       "Expected salary (Lac)                                               0\n",
       "Leadership- skills                                                  0\n",
       "dtype: int64"
      ]
     },
     "execution_count": 16,
     "metadata": {},
     "output_type": "execute_result"
    }
   ],
   "source": [
    "df.isnull().sum()"
   ]
  },
  {
   "cell_type": "code",
   "execution_count": 17,
   "id": "568be894",
   "metadata": {},
   "outputs": [],
   "source": [
    "df['College Name'].fillna('Others', inplace = True)"
   ]
  },
  {
   "cell_type": "code",
   "execution_count": 18,
   "id": "dd0707c9",
   "metadata": {},
   "outputs": [
    {
     "data": {
      "text/plain": [
       "First Name                                                         0\n",
       "Email ID                                                           0\n",
       "Quantity                                                           0\n",
       "Events                                                             0\n",
       "Attendee Status                                                    0\n",
       "College Name                                                       0\n",
       "How did you come to know about this event?                         0\n",
       "Specify in \"Others\" (how did you come to know about this event)    0\n",
       "Designation                                                        0\n",
       "Year of Graduation                                                 0\n",
       "City                                                               0\n",
       "CGPA                                                               0\n",
       "Experience with python (Months)                                    0\n",
       "Family Income                                                      0\n",
       "Expected salary (Lac)                                              0\n",
       "Leadership- skills                                                 0\n",
       "dtype: int64"
      ]
     },
     "execution_count": 18,
     "metadata": {},
     "output_type": "execute_result"
    }
   ],
   "source": [
    "df.isnull().sum()"
   ]
  },
  {
   "cell_type": "code",
   "execution_count": 19,
   "id": "568740b6",
   "metadata": {},
   "outputs": [
    {
     "data": {
      "text/html": [
       "<div>\n",
       "<style scoped>\n",
       "    .dataframe tbody tr th:only-of-type {\n",
       "        vertical-align: middle;\n",
       "    }\n",
       "\n",
       "    .dataframe tbody tr th {\n",
       "        vertical-align: top;\n",
       "    }\n",
       "\n",
       "    .dataframe thead th {\n",
       "        text-align: right;\n",
       "    }\n",
       "</style>\n",
       "<table border=\"1\" class=\"dataframe\">\n",
       "  <thead>\n",
       "    <tr style=\"text-align: right;\">\n",
       "      <th></th>\n",
       "      <th>Quantity</th>\n",
       "      <th>Year of Graduation</th>\n",
       "      <th>CGPA</th>\n",
       "      <th>Experience with python (Months)</th>\n",
       "      <th>Expected salary (Lac)</th>\n",
       "    </tr>\n",
       "  </thead>\n",
       "  <tbody>\n",
       "    <tr>\n",
       "      <th>count</th>\n",
       "      <td>4894.0</td>\n",
       "      <td>4894.000000</td>\n",
       "      <td>4894.000000</td>\n",
       "      <td>4894.000000</td>\n",
       "      <td>4894.000000</td>\n",
       "    </tr>\n",
       "    <tr>\n",
       "      <th>mean</th>\n",
       "      <td>1.0</td>\n",
       "      <td>2024.176951</td>\n",
       "      <td>8.038476</td>\n",
       "      <td>5.395586</td>\n",
       "      <td>13.935635</td>\n",
       "    </tr>\n",
       "    <tr>\n",
       "      <th>std</th>\n",
       "      <td>0.0</td>\n",
       "      <td>1.000180</td>\n",
       "      <td>1.005184</td>\n",
       "      <td>1.705364</td>\n",
       "      <td>6.451959</td>\n",
       "    </tr>\n",
       "    <tr>\n",
       "      <th>min</th>\n",
       "      <td>1.0</td>\n",
       "      <td>2023.000000</td>\n",
       "      <td>6.200000</td>\n",
       "      <td>3.000000</td>\n",
       "      <td>5.000000</td>\n",
       "    </tr>\n",
       "    <tr>\n",
       "      <th>25%</th>\n",
       "      <td>1.0</td>\n",
       "      <td>2023.000000</td>\n",
       "      <td>7.200000</td>\n",
       "      <td>4.000000</td>\n",
       "      <td>8.000000</td>\n",
       "    </tr>\n",
       "    <tr>\n",
       "      <th>50%</th>\n",
       "      <td>1.0</td>\n",
       "      <td>2024.000000</td>\n",
       "      <td>7.900000</td>\n",
       "      <td>5.000000</td>\n",
       "      <td>13.000000</td>\n",
       "    </tr>\n",
       "    <tr>\n",
       "      <th>75%</th>\n",
       "      <td>1.0</td>\n",
       "      <td>2025.000000</td>\n",
       "      <td>8.900000</td>\n",
       "      <td>7.000000</td>\n",
       "      <td>19.000000</td>\n",
       "    </tr>\n",
       "    <tr>\n",
       "      <th>max</th>\n",
       "      <td>1.0</td>\n",
       "      <td>2026.000000</td>\n",
       "      <td>9.900000</td>\n",
       "      <td>8.000000</td>\n",
       "      <td>35.000000</td>\n",
       "    </tr>\n",
       "  </tbody>\n",
       "</table>\n",
       "</div>"
      ],
      "text/plain": [
       "       Quantity  Year of Graduation         CGPA  \\\n",
       "count    4894.0         4894.000000  4894.000000   \n",
       "mean        1.0         2024.176951     8.038476   \n",
       "std         0.0            1.000180     1.005184   \n",
       "min         1.0         2023.000000     6.200000   \n",
       "25%         1.0         2023.000000     7.200000   \n",
       "50%         1.0         2024.000000     7.900000   \n",
       "75%         1.0         2025.000000     8.900000   \n",
       "max         1.0         2026.000000     9.900000   \n",
       "\n",
       "       Experience with python (Months)  Expected salary (Lac)  \n",
       "count                      4894.000000            4894.000000  \n",
       "mean                          5.395586              13.935635  \n",
       "std                           1.705364               6.451959  \n",
       "min                           3.000000               5.000000  \n",
       "25%                           4.000000               8.000000  \n",
       "50%                           5.000000              13.000000  \n",
       "75%                           7.000000              19.000000  \n",
       "max                           8.000000              35.000000  "
      ]
     },
     "execution_count": 19,
     "metadata": {},
     "output_type": "execute_result"
    }
   ],
   "source": [
    "df.describe()"
   ]
  },
  {
   "cell_type": "code",
   "execution_count": 20,
   "id": "693e2c1d",
   "metadata": {},
   "outputs": [
    {
     "data": {
      "text/plain": [
       "Index(['First Name', 'Email ID', 'Quantity', 'Events', 'Attendee Status',\n",
       "       'College Name', 'How did you come to know about this event?',\n",
       "       'Specify in \"Others\" (how did you come to know about this event)',\n",
       "       'Designation', 'Year of Graduation', 'City', 'CGPA',\n",
       "       'Experience with python (Months)', 'Family Income',\n",
       "       'Expected salary (Lac)', 'Leadership- skills'],\n",
       "      dtype='object')"
      ]
     },
     "execution_count": 20,
     "metadata": {},
     "output_type": "execute_result"
    }
   ],
   "source": [
    "df.columns"
   ]
  },
  {
   "cell_type": "markdown",
   "id": "0847e99f",
   "metadata": {},
   "source": [
    "## How many unique students are included in the dataset?"
   ]
  },
  {
   "cell_type": "code",
   "execution_count": 21,
   "id": "0742a5aa",
   "metadata": {},
   "outputs": [
    {
     "data": {
      "text/plain": [
       "4894"
      ]
     },
     "execution_count": 21,
     "metadata": {},
     "output_type": "execute_result"
    }
   ],
   "source": [
    "num_of_students = df['Email ID'].count()\n",
    "num_of_students"
   ]
  },
  {
   "cell_type": "markdown",
   "id": "890dca0c",
   "metadata": {},
   "source": [
    "## Average CGPA of students "
   ]
  },
  {
   "cell_type": "code",
   "execution_count": 22,
   "id": "270d7005",
   "metadata": {},
   "outputs": [
    {
     "data": {
      "text/plain": [
       "8.038475684511647"
      ]
     },
     "execution_count": 22,
     "metadata": {},
     "output_type": "execute_result"
    }
   ],
   "source": [
    "average_cgpa = df['CGPA'].mean()\n",
    "average_cgpa"
   ]
  },
  {
   "cell_type": "markdown",
   "id": "c46b9517",
   "metadata": {},
   "source": [
    "## distribution of students accross different graduation years"
   ]
  },
  {
   "cell_type": "code",
   "execution_count": 23,
   "id": "789793aa",
   "metadata": {},
   "outputs": [
    {
     "data": {
      "text/plain": [
       "Year of Graduation\n",
       "2023    1536\n",
       "2024    1511\n",
       "2025    1292\n",
       "2026     555\n",
       "Name: count, dtype: int64"
      ]
     },
     "execution_count": 23,
     "metadata": {},
     "output_type": "execute_result"
    }
   ],
   "source": [
    "dist_by_grad_year = df['Year of Graduation'].value_counts()\n",
    "dist_by_grad_year"
   ]
  },
  {
   "cell_type": "markdown",
   "id": "212bc194",
   "metadata": {},
   "source": [
    "## distribution of student's experience with python programming "
   ]
  },
  {
   "cell_type": "code",
   "execution_count": 24,
   "id": "21f487a7",
   "metadata": {},
   "outputs": [
    {
     "data": {
      "text/plain": [
       "Experience with python (Months)\n",
       "5    1242\n",
       "3    1008\n",
       "8     800\n",
       "6     738\n",
       "7     640\n",
       "4     466\n",
       "Name: count, dtype: int64"
      ]
     },
     "execution_count": 24,
     "metadata": {},
     "output_type": "execute_result"
    }
   ],
   "source": [
    "dist_by_python = df['Experience with python (Months)'].value_counts()\n",
    "dist_by_python"
   ]
  },
  {
   "cell_type": "markdown",
   "id": "8655ae3a",
   "metadata": {},
   "source": [
    "\n",
    "## Group data by college and calculate the mean GPA for each college"
   ]
  },
  {
   "cell_type": "code",
   "execution_count": 41,
   "id": "44e0017f",
   "metadata": {},
   "outputs": [
    {
     "data": {
      "text/plain": [
       "College Name\n",
       "A. C. Patil College of Engineering                                                7.772973\n",
       "ADHIYAMAAN COLLEGE OF ENGINEERING                                                 7.645455\n",
       "AP SHAH INSTITUTE OF TECHNOLOGY                                                   8.283333\n",
       "B. K. Birla College of Arts, Science & Commerce (Autonomous), Kalyan              8.456410\n",
       "CHHATTISGARH SWAMI VIVEKANANDA TECHNICAL UNIVERSITY TEACHING DEPARTMENT BHILAI    7.954545\n",
       "Name: CGPA, dtype: float64"
      ]
     },
     "execution_count": 41,
     "metadata": {},
     "output_type": "execute_result"
    }
   ],
   "source": [
    "\n",
    "college_gpa = df.groupby('College Name')['CGPA'].mean()\n",
    "\n",
    "college_gpa.head(5)"
   ]
  },
  {
   "cell_type": "markdown",
   "id": "d3919689",
   "metadata": {},
   "source": [
    "## average GPA of studnets from each city"
   ]
  },
  {
   "cell_type": "code",
   "execution_count": 26,
   "id": "aab3bf12",
   "metadata": {},
   "outputs": [
    {
     "data": {
      "text/plain": [
       "City\n",
       "Agartala     7.660714\n",
       "Agra         8.046429\n",
       "Ahemdabad    8.190385\n",
       "Ajmer        8.284314\n",
       "Akola        8.021429\n",
       "               ...   \n",
       "Vidisha      7.738095\n",
       "Vijaywada    7.986364\n",
       "Wardha       8.328571\n",
       "konark       8.071429\n",
       "kullu        7.878571\n",
       "Name: CGPA, Length: 177, dtype: float64"
      ]
     },
     "execution_count": 26,
     "metadata": {},
     "output_type": "execute_result"
    }
   ],
   "source": [
    "gpa_by_city = df.groupby('City')['CGPA'].mean()\n",
    "\n",
    "gpa_by_city\n"
   ]
  },
  {
   "cell_type": "markdown",
   "id": "a98a5392",
   "metadata": {},
   "source": [
    "## Relationship between family income and CGPA"
   ]
  },
  {
   "cell_type": "code",
   "execution_count": 27,
   "id": "63b7f98c",
   "metadata": {},
   "outputs": [
    {
     "name": "stdout",
     "output_type": "stream",
     "text": [
      "              CGPA\n",
      "count  4894.000000\n",
      "mean      8.038476\n",
      "std       1.005184\n",
      "min       6.200000\n",
      "25%       7.200000\n",
      "50%       7.900000\n",
      "75%       8.900000\n",
      "max       9.900000\n"
     ]
    }
   ],
   "source": [
    "# EDA: Summary statistics and data visualization\n",
    "summary_stats = df[['Family Income', 'CGPA']].describe()\n",
    "print(summary_stats)"
   ]
  },
  {
   "cell_type": "code",
   "execution_count": 28,
   "id": "aa6c82db",
   "metadata": {},
   "outputs": [
    {
     "data": {
      "image/png": "[encoded data removed]",
      "text/plain": [
       "<Figure size 800x600 with 1 Axes>"
      ]
     },
     "metadata": {},
     "output_type": "display_data"
    }
   ],
   "source": [
    "# Scatter plot to visualize the relationship\n",
    "plt.figure(figsize=(8, 6))\n",
    "sns.scatterplot(data=df, x='Family Income', y='CGPA')\n",
    "plt.title('Scatter Plot of Family Income vs. CGPA')\n",
    "plt.xlabel('Family Income')\n",
    "plt.ylabel('CGPA')\n",
    "plt.show()"
   ]
  },
  {
   "cell_type": "code",
   "execution_count": 29,
   "id": "b9e6c573",
   "metadata": {},
   "outputs": [
    {
     "data": {
      "image/png": "[encoded data removed]",
      "text/plain": [
       "<Figure size 800x600 with 1 Axes>"
      ]
     },
     "metadata": {},
     "output_type": "display_data"
    }
   ],
   "source": [
    "# Visualization: Box plot to compare CGPA across income groups\n",
    "plt.figure(figsize=(8, 6))\n",
    "sns.boxplot(data=df, x='Family Income', y='CGPA')\n",
    "plt.title('Box Plot of CGPA by Family Income')\n",
    "plt.xlabel('Family Income')\n",
    "plt.ylabel('CGPA')\n",
    "plt.xticks(rotation=45)\n",
    "plt.show()"
   ]
  },
  {
   "cell_type": "markdown",
   "id": "e75a532d",
   "metadata": {},
   "source": [
    "##  which event get more number of students "
   ]
  },
  {
   "cell_type": "code",
   "execution_count": 30,
   "id": "3704e14c",
   "metadata": {},
   "outputs": [
    {
     "data": {
      "text/html": [
       "<div>\n",
       "<style scoped>\n",
       "    .dataframe tbody tr th:only-of-type {\n",
       "        vertical-align: middle;\n",
       "    }\n",
       "\n",
       "    .dataframe tbody tr th {\n",
       "        vertical-align: top;\n",
       "    }\n",
       "\n",
       "    .dataframe thead th {\n",
       "        text-align: right;\n",
       "    }\n",
       "</style>\n",
       "<table border=\"1\" class=\"dataframe\">\n",
       "  <thead>\n",
       "    <tr style=\"text-align: right;\">\n",
       "      <th></th>\n",
       "      <th>Events</th>\n",
       "      <th>Student Count</th>\n",
       "    </tr>\n",
       "  </thead>\n",
       "  <tbody>\n",
       "    <tr>\n",
       "      <th>0</th>\n",
       "      <td>Art of Resume Building</td>\n",
       "      <td>478</td>\n",
       "    </tr>\n",
       "    <tr>\n",
       "      <th>1</th>\n",
       "      <td>Artificial Intelligence</td>\n",
       "      <td>125</td>\n",
       "    </tr>\n",
       "    <tr>\n",
       "      <th>2</th>\n",
       "      <td>Data Visualization using Power BI</td>\n",
       "      <td>455</td>\n",
       "    </tr>\n",
       "    <tr>\n",
       "      <th>3</th>\n",
       "      <td>Hello ML and DL</td>\n",
       "      <td>262</td>\n",
       "    </tr>\n",
       "    <tr>\n",
       "      <th>4</th>\n",
       "      <td>IAC - Q&amp;A</td>\n",
       "      <td>146</td>\n",
       "    </tr>\n",
       "    <tr>\n",
       "      <th>5</th>\n",
       "      <td>IS DATA SCIENCE FOR YOU?</td>\n",
       "      <td>306</td>\n",
       "    </tr>\n",
       "    <tr>\n",
       "      <th>6</th>\n",
       "      <td>Internship Program(IP) Success Conclave</td>\n",
       "      <td>797</td>\n",
       "    </tr>\n",
       "    <tr>\n",
       "      <th>7</th>\n",
       "      <td>KYC - Know Your CCPC</td>\n",
       "      <td>205</td>\n",
       "    </tr>\n",
       "    <tr>\n",
       "      <th>8</th>\n",
       "      <td>Product Design &amp; Full Stack</td>\n",
       "      <td>842</td>\n",
       "    </tr>\n",
       "    <tr>\n",
       "      <th>9</th>\n",
       "      <td>Product Marketing</td>\n",
       "      <td>112</td>\n",
       "    </tr>\n",
       "    <tr>\n",
       "      <th>10</th>\n",
       "      <td>RPA: A Boon or A Bane</td>\n",
       "      <td>114</td>\n",
       "    </tr>\n",
       "    <tr>\n",
       "      <th>11</th>\n",
       "      <td>Skill and Employability Enhancement</td>\n",
       "      <td>318</td>\n",
       "    </tr>\n",
       "    <tr>\n",
       "      <th>12</th>\n",
       "      <td>Talk on Skill and Employability Enhancement</td>\n",
       "      <td>379</td>\n",
       "    </tr>\n",
       "    <tr>\n",
       "      <th>13</th>\n",
       "      <td>The Agile Ways of Working</td>\n",
       "      <td>121</td>\n",
       "    </tr>\n",
       "    <tr>\n",
       "      <th>14</th>\n",
       "      <td>The SDLC &amp; their transformations</td>\n",
       "      <td>142</td>\n",
       "    </tr>\n",
       "    <tr>\n",
       "      <th>15</th>\n",
       "      <td>Transformation with DevOps: The Easy Way</td>\n",
       "      <td>92</td>\n",
       "    </tr>\n",
       "  </tbody>\n",
       "</table>\n",
       "</div>"
      ],
      "text/plain": [
       "                                         Events  Student Count\n",
       "0                        Art of Resume Building            478\n",
       "1                       Artificial Intelligence            125\n",
       "2             Data Visualization using Power BI            455\n",
       "3                               Hello ML and DL            262\n",
       "4                                     IAC - Q&A            146\n",
       "5                      IS DATA SCIENCE FOR YOU?            306\n",
       "6       Internship Program(IP) Success Conclave            797\n",
       "7                          KYC - Know Your CCPC            205\n",
       "8                   Product Design & Full Stack            842\n",
       "9                             Product Marketing            112\n",
       "10                        RPA: A Boon or A Bane            114\n",
       "11          Skill and Employability Enhancement            318\n",
       "12  Talk on Skill and Employability Enhancement            379\n",
       "13                    The Agile Ways of Working            121\n",
       "14             The SDLC & their transformations            142\n",
       "15     Transformation with DevOps: The Easy Way             92"
      ]
     },
     "execution_count": 30,
     "metadata": {},
     "output_type": "execute_result"
    }
   ],
   "source": [
    "event_count = df.groupby(['Events']).size().reset_index(name='Student Count')\n",
    "\n",
    "event_count\n"
   ]
  },
  {
   "cell_type": "markdown",
   "id": "581c315b",
   "metadata": {},
   "source": [
    "## Number of students graduated by the end of 2024"
   ]
  },
  {
   "cell_type": "code",
   "execution_count": 31,
   "id": "382c7f01",
   "metadata": {},
   "outputs": [
    {
     "data": {
      "text/plain": [
       "[0        True\n",
       " 1        True\n",
       " 2       False\n",
       " 3       False\n",
       " 4        True\n",
       "         ...  \n",
       " 4889     True\n",
       " 4890    False\n",
       " 4891     True\n",
       " 4892     True\n",
       " 4893    False\n",
       " Name: Year of Graduation, Length: 4894, dtype: bool]"
      ]
     },
     "execution_count": 31,
     "metadata": {},
     "output_type": "execute_result"
    }
   ],
   "source": [
    "grad_2024 = [df['Year of Graduation'] == 2024]\n",
    "grad_2024"
   ]
  },
  {
   "cell_type": "code",
   "execution_count": 32,
   "id": "4955f2ff",
   "metadata": {},
   "outputs": [
    {
     "data": {
      "text/plain": [
       "Year of Graduation\n",
       "2023    1536\n",
       "2024    1511\n",
       "2025    1292\n",
       "2026     555\n",
       "Name: count, dtype: int64"
      ]
     },
     "execution_count": 32,
     "metadata": {},
     "output_type": "execute_result"
    }
   ],
   "source": [
    "grad_2024 = df['Year of Graduation'].value_counts()\n",
    "grad_2024"
   ]
  },
  {
   "cell_type": "markdown",
   "id": "a5bc6469",
   "metadata": {},
   "source": [
    "##  which promotional channel brings in most student participation "
   ]
  },
  {
   "cell_type": "code",
   "execution_count": 33,
   "id": "18f15256",
   "metadata": {},
   "outputs": [
    {
     "data": {
      "text/plain": [
       "How did you come to know about this event?\n",
       "Others      2369\n",
       "Whatsapp    1067\n",
       "Email        438\n",
       "Name: count, dtype: int64"
      ]
     },
     "execution_count": 33,
     "metadata": {},
     "output_type": "execute_result"
    }
   ],
   "source": [
    "prom_chnl = df['How did you come to know about this event?'].value_counts()\n",
    "prom_chnl.head(3)\n",
    "\n",
    "#top three promotional channels "
   ]
  },
  {
   "cell_type": "markdown",
   "id": "026e7ed6",
   "metadata": {},
   "source": [
    "## Number of students attending to the events related to data scinece "
   ]
  },
  {
   "cell_type": "code",
   "execution_count": 34,
   "id": "8dcfd586",
   "metadata": {},
   "outputs": [
    {
     "data": {
      "text/plain": [
       "Events\n",
       "Product Design & Full Stack                    842\n",
       "Internship Program(IP) Success Conclave        797\n",
       "Art of Resume Building                         478\n",
       "Data Visualization using Power BI              455\n",
       "Talk on Skill and Employability Enhancement    379\n",
       "Skill and Employability Enhancement            318\n",
       "IS DATA SCIENCE FOR YOU?                       306\n",
       "Hello ML and DL                                262\n",
       "KYC - Know Your CCPC                           205\n",
       "IAC - Q&A                                      146\n",
       "The SDLC & their transformations               142\n",
       "Artificial Intelligence                        125\n",
       "The Agile Ways of Working                      121\n",
       "RPA: A Boon or A Bane                          114\n",
       "Product Marketing                              112\n",
       "Transformation with DevOps: The Easy Way        92\n",
       "Name: count, dtype: int64"
      ]
     },
     "execution_count": 34,
     "metadata": {},
     "output_type": "execute_result"
    }
   ],
   "source": [
    "ds = df['Events'].value_counts()\n",
    "ds"
   ]
  },
  {
   "cell_type": "code",
   "execution_count": 35,
   "id": "49171c98",
   "metadata": {},
   "outputs": [
    {
     "data": {
      "text/plain": [
       "First Name  Email ID           Quantity  Events                             Attendee Status  College Name                                                                       How did you come to know about this event?                         Specify in \"Others\" (how did you come to know about this event)  Designation  Year of Graduation  City       CGPA  Experience with python (Months)  Family Income  Expected salary (Lac)  Leadership- skills\n",
       "10 Pawan    10pawan@xyz.com    1         Data Visualization using Power BI  Attending        silicon institute of technology                                                    SPOC/ College Professor                                            Others                                                           Students     2024                Ghaziabad  7.3   5                                0-2 Lakh       5                      yes                   1\n",
       "Rushikesh   rushikesh@xyz.com  1         Data Visualization using Power BI  Attending        Wilson college                                                                     Youtube | Facebook | Instagram | Email | Cloud Counselage Website  Others                                                           Students     2026                Ambala     8.7   5                                0-2 Lakh       21                     yes                   1\n",
       "Sanket      sanket@xyz.com     1         Data Visualization using Power BI  Attending        THAKUR INSTITUTE OF MANAGEMENT STUDIES, CAREER DEVELOPMENT & RESEARCH - [TIMSCDR]  Email                                                              Others                                                           Students     2023                Bhopal     8.7   5                                0-2 Lakh       20                     yes                   1\n",
       "Sanjay      sanjay@xyz.com     1         Data Visualization using Power BI  Attending        wilson college                                                                     Others                                                             Others                                                           Students     2025                Ajmer      8.5   6                                0-2 Lakh       7                      no                    1\n",
       "Sanika      sanika@xyz.com     1         Data Visualization using Power BI  Attending        vishwakarma institute of technology, pune                                          Whatsapp                                                           Others                                                           Students     2025                Okha       8.7   5                                0-2 Lakh       21                     no                    1\n",
       "                                                                                                                                                                                                                                                                                                                                                                                                                                                                  ..\n",
       "Ketaki      ketaki@xyz.com     1         Data Visualization using Power BI  Attending        Late G. N. Sapkal College Of Engineering                                           SPOC/ College Professor                                            Others                                                           Students     2024                Sasaram    9.5   3                                0-2 Lakh       10                     no                    1\n",
       "Kazima      kazima@xyz.com     1         Data Visualization using Power BI  Attending        b. k. birla college of arts, science & commerce (autonomous), kalyan               Friend/ Classmate                                                  Others                                                           Students     2026                Haora      6.7   3                                0-2 Lakh       5                      no                    1\n",
       "Kartikey    kartikey@xyz.com   1         Data Visualization using Power BI  Attending        New horizon institute of Technology and Management                                 Friend/ Classmate                                                  Others                                                           Students     2024                Amreli     9.3   5                                0-2 Lakh       7                      no                    1\n",
       "Kartik      kartik@xyz.com     1         Data Visualization using Power BI  Attending        g h raisoni institut of engineering and technology pune                            Whatsapp                                                           Others                                                           Students     2025                Orchha     9.5   3                                0-2 Lakh       9                      no                    1\n",
       "zeba        zeba@xyz.com       1         Data Visualization using Power BI  Attending        St.Francis Institute of Technology                                                 Email                                                              Others                                                           Students     2024                Lucknow    7.9   3                                0-2 Lakh       9                      no                    1\n",
       "Name: count, Length: 455, dtype: int64"
      ]
     },
     "execution_count": 35,
     "metadata": {},
     "output_type": "execute_result"
    }
   ],
   "source": [
    "ds_1 = df[df['Events'] == \"Data Visualization using Power BI\"].value_counts()\n",
    "ds_1"
   ]
  },
  {
   "cell_type": "code",
   "execution_count": 36,
   "id": "d8d84911",
   "metadata": {},
   "outputs": [
    {
     "data": {
      "text/plain": [
       "First Name  Email ID           Quantity  Events                    Attendee Status  College Name                                                                       How did you come to know about this event?  Specify in \"Others\" (how did you come to know about this event)  Designation   Year of Graduation  City      CGPA  Experience with python (Months)  Family Income  Expected salary (Lac)  Leadership- skills\n",
       "Alan        alan@xyz.com       1         IS DATA SCIENCE FOR YOU?  Attending        government polytechnic gandhinagar                                                 Others                                      Others                                                           Students      2023                Chapra    7.1   3                                2-5 Lakh       7                      no                    1\n",
       "Mamie       mamie@xyz.com      1         IS DATA SCIENCE FOR YOU?  Attending        s.i.e.s. graduate school of technology, nerul, navi mumbai                         Others                                      Others                                                           Students      2023                Nashik    7.7   8                                0-2 Lakh       24                     yes                   1\n",
       "Marie       marie@xyz.com      1         IS DATA SCIENCE FOR YOU?  Attending        thakur institute of management studies, career development & research - [timscdr]  Others                                      Others                                                           Students      2024                Satna     6.9   8                                0-2 Lakh       21                     no                    1\n",
       "Marianne    marianne@xyz.com   1         IS DATA SCIENCE FOR YOU?  Attending        mit academy of engineering ,alandi                                                 Others                                      Others                                                           Students      2023                Sangrur   7.3   5                                0-2 Lakh       12                     yes                   1\n",
       "Maria       maria@xyz.com      1         IS DATA SCIENCE FOR YOU?  Attending        vishwakarma institute of technology, pune                                          Others                                      Others                                                           Students      2024                Shillong  9.5   8                                0-2 Lakh       18                     no                    1\n",
       "                                                                                                                                                                                                                                                                                                                                                                                                                                  ..\n",
       "Glenn       glenn@xyz.com      1         IS DATA SCIENCE FOR YOU?  Attending        pillai college of engineering new panvel                                           Others                                      Others                                                           Students      2026                Kaithal   9.5   3                                0-2 Lakh       7                      no                    1\n",
       "George      george@xyz.com     1         IS DATA SCIENCE FOR YOU?  Attending        vishwakarma institute of technology, pune                                          Others                                      Others                                                           Students      2023                Valsad    9.6   6                                0-2 Lakh       21                     yes                   1\n",
       "Garry       garry@xyz.com      1         IS DATA SCIENCE FOR YOU?  Attending        government polytechnic gandhinagar                                                 Others                                      Others                                                           Students      2024                Jaipur    9.1   6                                0-2 Lakh       25                     yes                   1\n",
       "Gabrielle   gabrielle@xyz.com  1         IS DATA SCIENCE FOR YOU?  Attending        symbiosis institute of technology, pune                                            Others                                      Others                                                           Students      2024                Morbi     8.8   5                                5-7 Lakh       9                      yes                   1\n",
       "Young       young@xyz.com      1         IS DATA SCIENCE FOR YOU?  Attending        lokmanya tilak college of engineering koparkhairane navi mumbai                    Others                                      Others                                                           Engineering   2024                Ujjain    8.9   6                                0-2 Lakh       30                     no                    1\n",
       "Name: count, Length: 306, dtype: int64"
      ]
     },
     "execution_count": 36,
     "metadata": {},
     "output_type": "execute_result"
    }
   ],
   "source": [
    "ds_2 = df[df['Events'] == \"IS DATA SCIENCE FOR YOU?\"].value_counts()\n",
    "ds_2"
   ]
  },
  {
   "cell_type": "markdown",
   "id": "16ee6c78",
   "metadata": {},
   "source": [
    "## people with high gpa and high experience in python are expecting more salary"
   ]
  },
  {
   "cell_type": "code",
   "execution_count": 37,
   "id": "029448e8",
   "metadata": {},
   "outputs": [
    {
     "name": "stdout",
     "output_type": "stream",
     "text": [
      "              CGPA  Experience with python (Months)  Expected salary (Lac)\n",
      "count  4894.000000                      4894.000000            4894.000000\n",
      "mean      8.038476                         5.395586              13.935635\n",
      "std       1.005184                         1.705364               6.451959\n",
      "min       6.200000                         3.000000               5.000000\n",
      "25%       7.200000                         4.000000               8.000000\n",
      "50%       7.900000                         5.000000              13.000000\n",
      "75%       8.900000                         7.000000              19.000000\n",
      "max       9.900000                         8.000000              35.000000\n"
     ]
    }
   ],
   "source": [
    "summary_stats = df[['CGPA', 'Experience with python (Months)', 'Expected salary (Lac)']].describe()\n",
    "print(summary_stats)\n"
   ]
  },
  {
   "cell_type": "code",
   "execution_count": 38,
   "id": "1aabb3d6",
   "metadata": {},
   "outputs": [
    {
     "data": {
      "image/png": "[encoded data removed]",
      "text/plain": [
       "<Figure size 1000x600 with 1 Axes>"
      ]
     },
     "metadata": {},
     "output_type": "display_data"
    }
   ],
   "source": [
    "# Scatter plot between GPA and Salary Expectation\n",
    "plt.figure(figsize=(10, 6))\n",
    "sns.scatterplot(x='CGPA', y='Expected salary (Lac)', data=df)\n",
    "plt.title('Scatter Plot: GPA vs. Salary Expectation')\n",
    "plt.xlabel('CGPA')\n",
    "plt.ylabel('Expected salary (Lac)')\n",
    "plt.show()\n",
    "\n"
   ]
  },
  {
   "cell_type": "code",
   "execution_count": 39,
   "id": "7e66d433",
   "metadata": {},
   "outputs": [
    {
     "data": {
      "image/png": "[encoded data removed]",
      "text/plain": [
       "<Figure size 1000x600 with 1 Axes>"
      ]
     },
     "metadata": {},
     "output_type": "display_data"
    }
   ],
   "source": [
    "# Scatter plot between Python Experience and Salary Expectation\n",
    "plt.figure(figsize=(10, 6))\n",
    "sns.scatterplot(x='Experience with python (Months)', y='Expected salary (Lac)', data = df)\n",
    "plt.title('Scatter Plot: Python Experience vs. Salary Expectation')\n",
    "plt.xlabel('Experience with python (Months)')\n",
    "plt.ylabel('Expected salary (Lac)')\n",
    "plt.show()\n"
   ]
  },
  {
   "cell_type": "markdown",
   "id": "07e0b69b",
   "metadata": {},
   "source": [
    "## how many students know that the event is from colleges and top 5 colleges"
   ]
  },
  {
   "cell_type": "code",
   "execution_count": 40,
   "id": "8e8151f6",
   "metadata": {},
   "outputs": [
    {
     "data": {
      "text/plain": [
       "First Name  Email ID          Quantity  Events                       Attendee Status  College Name                                    How did you come to know about this event?  Specify in \"Others\" (how did you come to know about this event)  Designation  Year of Graduation  City     CGPA  Experience with python (Months)  Family Income  Expected salary (Lac)  Leadership- skills\n",
       "Akash       akash@xyz.com     1         Art of Resume Building       Attending        ld college of engineering, ahmedabad, gujarat   Others                                      College                                                          Students     2023                Gonda    7.3   5                                0-2 Lakh       8                      no                    1\n",
       "Rosa        rosa@xyz.com      1         Product Design & Full Stack  Attending        symbiosis institute of technology, pune         Others                                      College                                                          Students     2024                Jaipur   8.5   5                                0-2 Lakh       17                     no                    1\n",
       "Sayali      sayali@xyz.com    1         Art of Resume Building       Attending        GOVERNMENT POLYTECHNIC GANDHINAGAR              Others                                      College                                                          Students     2024                Malda    9.5   4                                0-2 Lakh       12                     no                    1\n",
       "Sanika      sanika@xyz.com    1         Art of Resume Building       Attending        St.Francis Institute of Technology              Others                                      College                                                          Students     2023                Sirsa    6.7   5                                7 Lakh+        9                      no                    1\n",
       "Samiksha    samiksha@xyz.com  1         Art of Resume Building       Attending        Symbiosis Institute of Technology, Pune         Others                                      College                                                          Students     2023                Silguri  7.4   3                                0-2 Lakh       8                      no                    1\n",
       "Name: count, dtype: int64"
      ]
     },
     "execution_count": 40,
     "metadata": {},
     "output_type": "execute_result"
    }
   ],
   "source": [
    "stu_frm_clg = df[df['Specify in \"Others\" (how did you come to know about this event)'] == 'College'].value_counts()\n",
    "stu_frm_clg.head()"
   ]
  },
  {
   "cell_type": "code",
   "execution_count": null,
   "id": "8d2a67f0",
   "metadata": {},
   "outputs": [],
   "source": []
  },
  {
   "cell_type": "code",
   "execution_count": null,
   "id": "738214e3",
   "metadata": {},
   "outputs": [],
   "source": []
  },
  {
   "cell_type": "code",
   "execution_count": null,
   "id": "9a2bccf9",
   "metadata": {},
   "outputs": [],
   "source": []
  },
  {
   "cell_type": "code",
   "execution_count": null,
   "id": "ee204571",
   "metadata": {},
   "outputs": [],
   "source": []
  },
  {
   "cell_type": "code",
   "execution_count": null,
   "id": "f2bdafe9",
   "metadata": {},
   "outputs": [],
   "source": []
  },
  {
   "cell_type": "code",
   "execution_count": null,
   "id": "c08660b9",
   "metadata": {},
   "outputs": [],
   "source": []
  },
  {
   "cell_type": "code",
   "execution_count": null,
   "id": "7b89144b",
   "metadata": {},
   "outputs": [],
   "source": []
  },
  {
   "cell_type": "code",
   "execution_count": null,
   "id": "f0661620",
   "metadata": {},
   "outputs": [],
   "source": []
  },
  {
   "cell_type": "code",
   "execution_count": null,
   "id": "d1d01d29",
   "metadata": {},
   "outputs": [],
   "source": []
  },
  {
   "cell_type": "code",
   "execution_count": null,
   "id": "4510e3fb",
   "metadata": {},
   "outputs": [],
   "source": []
  },
  {
   "cell_type": "code",
   "execution_count": null,
   "id": "e23382f1",
   "metadata": {},
   "outputs": [],
   "source": []
  }
 ],
 "metadata": {
  "kernelspec": {
   "display_name": "Python 3 (ipykernel)",
   "language": "python",
   "name": "python3"
  },
  "language_info": {
   "codemirror_mode": {
    "name": "ipython",
    "version": 3
   },
   "file_extension": ".py",
   "mimetype": "text/x-python",
   "name": "python",
   "nbconvert_exporter": "python",
   "pygments_lexer": "ipython3",
   "version": "3.11.1"
  }
 },
 "nbformat": 4,
 "nbformat_minor": 5
}
